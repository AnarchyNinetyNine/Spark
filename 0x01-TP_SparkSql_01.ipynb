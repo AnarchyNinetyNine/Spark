{
 "cells": [
  {
   "cell_type": "code",
   "execution_count": 21,
   "metadata": {},
   "outputs": [],
   "source": [
    "# Importing necessary PySpark modules and classes for data handling and ML\n",
    "import pyspark\n",
    "import os\n",
    "from pyspark.sql import SparkSession\n",
    "from pyspark.sql.functions import min, max, sum\n"
   ]
  },
  {
   "cell_type": "code",
   "execution_count": 2,
   "metadata": {},
   "outputs": [
    {
     "name": "stderr",
     "output_type": "stream",
     "text": [
      "25/05/19 02:36:43 WARN Utils: Your hostname, Precision-M6700 resolves to a loopback address: 127.0.1.1; using 192.168.43.246 instead (on interface wlp3s0)\n",
      "25/05/19 02:36:43 WARN Utils: Set SPARK_LOCAL_IP if you need to bind to another address\n",
      "Setting default log level to \"WARN\".\n",
      "To adjust logging level use sc.setLogLevel(newLevel). For SparkR, use setLogLevel(newLevel).\n",
      "25/05/19 02:36:45 WARN NativeCodeLoader: Unable to load native-hadoop library for your platform... using builtin-java classes where applicable\n"
     ]
    }
   ],
   "source": [
    "# Create or retrieve a SparkSession\n",
    "spark = SparkSession.builder \\\n",
    "    .appName(\"Product Data\") \\\n",
    "    .getOrCreate()"
   ]
  },
  {
   "cell_type": "code",
   "execution_count": 3,
   "metadata": {},
   "outputs": [
    {
     "name": "stderr",
     "output_type": "stream",
     "text": [
      "                                                                                \r"
     ]
    }
   ],
   "source": [
    "csv_path = \"file://\" + os.path.abspath(\"diamonds.csv\")\n",
    "data = (\n",
    "    spark.read\n",
    "    .format(\"csv\")\n",
    "    .option(\"header\", True)\n",
    "    .option(\"inferSchema\", True)\n",
    "    .load(csv_path)\n",
    ")"
   ]
  },
  {
   "cell_type": "code",
   "execution_count": 4,
   "metadata": {},
   "outputs": [
    {
     "name": "stdout",
     "output_type": "stream",
     "text": [
      "+---+-----+---------+-----+-------+-----+-----+-----+----+----+----+\n",
      "|_c0|carat|cut      |color|clarity|depth|table|price|x   |y   |z   |\n",
      "+---+-----+---------+-----+-------+-----+-----+-----+----+----+----+\n",
      "|1  |0.23 |Ideal    |E    |SI2    |61.5 |55.0 |326  |3.95|3.98|2.43|\n",
      "|2  |0.21 |Premium  |E    |SI1    |59.8 |61.0 |326  |3.89|3.84|2.31|\n",
      "|3  |0.23 |Good     |E    |VS1    |56.9 |65.0 |327  |4.05|4.07|2.31|\n",
      "|4  |0.29 |Premium  |I    |VS2    |62.4 |58.0 |334  |4.2 |4.23|2.63|\n",
      "|5  |0.31 |Good     |J    |SI2    |63.3 |58.0 |335  |4.34|4.35|2.75|\n",
      "|6  |0.24 |Very Good|J    |VVS2   |62.8 |57.0 |336  |3.94|3.96|2.48|\n",
      "|7  |0.24 |Very Good|I    |VVS1   |62.3 |57.0 |336  |3.95|3.98|2.47|\n",
      "|8  |0.26 |Very Good|H    |SI1    |61.9 |55.0 |337  |4.07|4.11|2.53|\n",
      "|9  |0.22 |Fair     |E    |VS2    |65.1 |61.0 |337  |3.87|3.78|2.49|\n",
      "|10 |0.23 |Very Good|H    |VS1    |59.4 |61.0 |338  |4.0 |4.05|2.39|\n",
      "+---+-----+---------+-----+-------+-----+-----+-----+----+----+----+\n",
      "only showing top 10 rows\n",
      "\n"
     ]
    },
    {
     "name": "stderr",
     "output_type": "stream",
     "text": [
      "25/05/19 02:38:46 WARN CSVHeaderChecker: CSV header does not conform to the schema.\n",
      " Header: , carat, cut, color, clarity, depth, table, price, x, y, z\n",
      " Schema: _c0, carat, cut, color, clarity, depth, table, price, x, y, z\n",
      "Expected: _c0 but found: \n",
      "CSV file: file:///home/anarchy/Desktop/Spark/diamonds.csv\n"
     ]
    }
   ],
   "source": [
    "# Afficher toutes les colonnes des 10 premiers diamants\n",
    "data.show(10, truncate=False)"
   ]
  },
  {
   "cell_type": "code",
   "execution_count": 6,
   "metadata": {},
   "outputs": [
    {
     "data": {
      "text/plain": [
       "53940"
      ]
     },
     "execution_count": 6,
     "metadata": {},
     "output_type": "execute_result"
    }
   ],
   "source": [
    "# .Compter le nombre total de diamants dans la base\n",
    "data.count()"
   ]
  },
  {
   "cell_type": "code",
   "execution_count": 11,
   "metadata": {},
   "outputs": [
    {
     "name": "stdout",
     "output_type": "stream",
     "text": [
      "min_price = 326\n",
      "max_price = 18823\n"
     ]
    }
   ],
   "source": [
    "# Trouver le prix minimum et maximum des diamants\n",
    "max_price = data.select(max(data.price)).collect()[0][0]\n",
    "min_price = data.select(min(data.price)).collect()[0][0]\n",
    "\n",
    "print(f\"min_price = {min_price}\") # 326\n",
    "print(f\"max_price = {max_price}\") # 18823"
   ]
  },
  {
   "cell_type": "code",
   "execution_count": 14,
   "metadata": {},
   "outputs": [
    {
     "name": "stdout",
     "output_type": "stream",
     "text": [
      "+-----+\n",
      "|color|\n",
      "+-----+\n",
      "|    F|\n",
      "|    E|\n",
      "|    D|\n",
      "|    J|\n",
      "|    G|\n",
      "|    I|\n",
      "|    H|\n",
      "+-----+\n",
      "\n"
     ]
    }
   ],
   "source": [
    "# Lister toutes les couleurs de diamants sans doublons\n",
    "data.select(data.color).distinct().show()"
   ]
  },
  {
   "cell_type": "code",
   "execution_count": 15,
   "metadata": {},
   "outputs": [
    {
     "name": "stderr",
     "output_type": "stream",
     "text": [
      "25/05/19 02:43:55 WARN CSVHeaderChecker: CSV header does not conform to the schema.\n",
      " Header: , carat, cut, color, clarity, depth, table, price, x, y, z\n",
      " Schema: _c0, carat, cut, color, clarity, depth, table, price, x, y, z\n",
      "Expected: _c0 but found: \n",
      "CSV file: file:///home/anarchy/Desktop/Spark/diamonds.csv\n"
     ]
    },
    {
     "name": "stdout",
     "output_type": "stream",
     "text": [
      "+-----+-----+---------+-----+-------+-----+-----+-----+----+----+----+\n",
      "|_c0  |carat|cut      |color|clarity|depth|table|price|x   |y   |z   |\n",
      "+-----+-----+---------+-----+-------+-----+-----+-----+----+----+----+\n",
      "|2025 |1.52 |Good     |E    |I1     |57.3 |58.0 |3105 |7.53|7.42|4.28|\n",
      "|2026 |1.52 |Good     |E    |I1     |57.3 |58.0 |3105 |7.53|7.42|4.28|\n",
      "|3927 |1.51 |Good     |G    |I1     |64.0 |59.0 |3497 |7.29|7.17|4.63|\n",
      "|3956 |1.52 |Fair     |H    |I1     |64.9 |58.0 |3504 |7.18|7.13|4.65|\n",
      "|4129 |1.52 |Premium  |I    |I1     |61.2 |58.0 |3541 |7.43|7.35|4.52|\n",
      "|4971 |1.51 |Fair     |F    |I1     |67.8 |59.0 |3734 |7.09|7.0 |4.78|\n",
      "|4972 |1.51 |Fair     |F    |I1     |67.5 |56.0 |3734 |7.17|7.05|4.8 |\n",
      "|5015 |1.52 |Fair     |I    |I1     |67.7 |58.0 |3745 |7.07|7.0 |4.76|\n",
      "|5146 |1.51 |Fair     |H    |I1     |65.6 |61.0 |3765 |7.16|7.0 |4.66|\n",
      "|5413 |1.52 |Premium  |G    |I1     |61.7 |58.0 |3820 |7.43|7.34|4.56|\n",
      "|7106 |1.51 |Fair     |G    |I1     |65.6 |54.0 |4167 |7.28|7.1 |4.72|\n",
      "|8101 |1.52 |Premium  |G    |I1     |62.3 |60.0 |4345 |7.34|7.28|4.56|\n",
      "|8418 |1.51 |Premium  |H    |I1     |60.9 |56.0 |4404 |7.38|7.26|4.46|\n",
      "|8698 |1.58 |Premium  |I    |I1     |60.2 |61.0 |4459 |7.55|7.51|4.53|\n",
      "|8904 |1.54 |Good     |J    |I1     |61.7 |60.0 |4492 |7.26|7.32|4.5 |\n",
      "|9463 |1.51 |Very Good|J    |I1     |63.3 |57.0 |4600 |7.31|7.23|4.6 |\n",
      "|9677 |1.52 |Fair     |H    |I1     |69.7 |55.0 |4648 |6.92|6.89|4.81|\n",
      "|9678 |1.52 |Fair     |H    |I1     |65.4 |62.0 |4648 |7.1 |7.02|4.62|\n",
      "|9852 |1.74 |Very Good|H    |I1     |63.2 |55.0 |4677 |7.62|7.59|4.8 |\n",
      "|10710|1.64 |Fair     |G    |I1     |64.5 |60.0 |4849 |7.44|7.35|4.76|\n",
      "+-----+-----+---------+-----+-------+-----+-----+-----+----+----+----+\n",
      "only showing top 20 rows\n",
      "\n"
     ]
    }
   ],
   "source": [
    "# Afficher les diamants avec un carat supérieur à 1.5\n",
    "data.filter(data.carat > 1.5).show(truncate=False)"
   ]
  },
  {
   "cell_type": "code",
   "execution_count": 16,
   "metadata": {},
   "outputs": [
    {
     "name": "stderr",
     "output_type": "stream",
     "text": [
      "25/05/19 02:44:57 WARN CSVHeaderChecker: CSV header does not conform to the schema.\n",
      " Header: , carat, cut, color, clarity, depth, table, price, x, y, z\n",
      " Schema: _c0, carat, cut, color, clarity, depth, table, price, x, y, z\n",
      "Expected: _c0 but found: \n",
      "CSV file: file:///home/anarchy/Desktop/Spark/diamonds.csv\n"
     ]
    },
    {
     "name": "stdout",
     "output_type": "stream",
     "text": [
      "+-----+-----+-------+-----+-------+-----+-----+-----+-----+-----+----+\n",
      "|  _c0|carat|    cut|color|clarity|depth|table|price|    x|    y|   z|\n",
      "+-----+-----+-------+-----+-------+-----+-----+-----+-----+-----+----+\n",
      "|25999| 4.01|Premium|    I|     I1| 61.0| 61.0|15223|10.14| 10.1|6.17|\n",
      "|26000| 4.01|Premium|    J|     I1| 62.5| 62.0|15223|10.02| 9.94|6.24|\n",
      "|27131| 4.13|   Fair|    H|     I1| 64.8| 61.0|17329| 10.0| 9.85|6.43|\n",
      "|27416| 5.01|   Fair|    J|     I1| 65.5| 59.0|18018|10.74|10.54|6.98|\n",
      "|27631|  4.5|   Fair|    J|     I1| 65.8| 58.0|18531|10.23|10.16|6.72|\n",
      "+-----+-----+-------+-----+-------+-----+-----+-----+-----+-----+----+\n",
      "\n"
     ]
    }
   ],
   "source": [
    "# Sélectionner les diamants avec un carat supérieur à 4 et un prix supérieur à 10 000$\n",
    "data.filter((data.carat > 4) & (data.price > 10000)).show()"
   ]
  },
  {
   "cell_type": "code",
   "execution_count": 17,
   "metadata": {},
   "outputs": [
    {
     "name": "stdout",
     "output_type": "stream",
     "text": [
      "+---+-----+-------+-----+-------+-----+-----+-----+----+----+----+\n",
      "|_c0|carat|    cut|color|clarity|depth|table|price|   x|   y|   z|\n",
      "+---+-----+-------+-----+-------+-----+-----+-----+----+----+----+\n",
      "|  1| 0.23|  Ideal|    E|    SI2| 61.5| 55.0|  326|3.95|3.98|2.43|\n",
      "|  2| 0.21|Premium|    E|    SI1| 59.8| 61.0|  326|3.89|3.84|2.31|\n",
      "|  4| 0.29|Premium|    I|    VS2| 62.4| 58.0|  334| 4.2|4.23|2.63|\n",
      "| 12| 0.23|  Ideal|    J|    VS1| 62.8| 56.0|  340|3.93| 3.9|2.46|\n",
      "| 13| 0.22|Premium|    F|    SI1| 60.4| 61.0|  342|3.88|3.84|2.33|\n",
      "| 14| 0.31|  Ideal|    J|    SI2| 62.2| 54.0|  344|4.35|4.37|2.71|\n",
      "| 15|  0.2|Premium|    E|    SI2| 60.2| 62.0|  345|3.79|3.75|2.27|\n",
      "| 16| 0.32|Premium|    E|     I1| 60.9| 58.0|  345|4.38|4.42|2.68|\n",
      "| 17|  0.3|  Ideal|    I|    SI2| 62.0| 54.0|  348|4.31|4.34|2.68|\n",
      "| 27| 0.24|Premium|    I|    VS1| 62.5| 57.0|  355|3.97|3.94|2.47|\n",
      "| 40| 0.33|  Ideal|    I|    SI2| 61.8| 55.0|  403|4.49|4.51|2.78|\n",
      "| 41| 0.33|  Ideal|    I|    SI2| 61.2| 56.0|  403|4.49| 4.5|2.75|\n",
      "| 42| 0.33|  Ideal|    J|    SI1| 61.1| 56.0|  403|4.49|4.55|2.76|\n",
      "| 46| 0.29|Premium|    F|    SI1| 62.4| 58.0|  403|4.24|4.26|2.65|\n",
      "| 52| 0.23|  Ideal|    G|    VS1| 61.9| 54.0|  404|3.93|3.95|2.44|\n",
      "| 53| 0.32|  Ideal|    I|    SI1| 60.9| 55.0|  404|4.45|4.48|2.72|\n",
      "| 54| 0.22|Premium|    E|    VS2| 61.6| 58.0|  404|3.93|3.89|2.41|\n",
      "| 55| 0.22|Premium|    D|    VS2| 59.3| 62.0|  404|3.91|3.88|2.31|\n",
      "| 56|  0.3|  Ideal|    I|    SI2| 61.0| 59.0|  405| 4.3|4.33|2.63|\n",
      "| 57|  0.3|Premium|    J|    SI2| 59.3| 61.0|  405|4.43|4.38|2.61|\n",
      "+---+-----+-------+-----+-------+-----+-----+-----+----+----+----+\n",
      "only showing top 20 rows\n",
      "\n"
     ]
    },
    {
     "name": "stderr",
     "output_type": "stream",
     "text": [
      "25/05/19 02:45:26 WARN CSVHeaderChecker: CSV header does not conform to the schema.\n",
      " Header: , carat, cut, color, clarity, depth, table, price, x, y, z\n",
      " Schema: _c0, carat, cut, color, clarity, depth, table, price, x, y, z\n",
      "Expected: _c0 but found: \n",
      "CSV file: file:///home/anarchy/Desktop/Spark/diamonds.csv\n"
     ]
    }
   ],
   "source": [
    "# Afficher les diamants avec une coupe (\"cut\") ’Premium’ ou ’Ideal’\n",
    "data.filter(data.cut.isin([\"Ideal\", \"Premium\"])).show()"
   ]
  },
  {
   "cell_type": "code",
   "execution_count": 18,
   "metadata": {},
   "outputs": [
    {
     "name": "stderr",
     "output_type": "stream",
     "text": [
      "25/05/19 02:45:53 WARN CSVHeaderChecker: CSV header does not conform to the schema.\n",
      " Header: , carat, cut, color, clarity, depth, table, price, x, y, z\n",
      " Schema: _c0, carat, cut, color, clarity, depth, table, price, x, y, z\n",
      "Expected: _c0 but found: \n",
      "CSV file: file:///home/anarchy/Desktop/Spark/diamonds.csv\n"
     ]
    },
    {
     "name": "stdout",
     "output_type": "stream",
     "text": [
      "+-----+-----+---------+-----+-------+-----+-----+-----+----+----+----+\n",
      "|_c0  |carat|cut      |color|clarity|depth|table|price|x   |y   |z   |\n",
      "+-----+-----+---------+-----+-------+-----+-----+-----+----+----+----+\n",
      "|27750|2.29 |Premium  |I    |VS2    |60.8 |60.0 |18823|8.5 |8.47|5.16|\n",
      "|27749|2.0  |Very Good|G    |SI1    |63.5 |56.0 |18818|7.9 |7.97|5.04|\n",
      "|27748|1.51 |Ideal    |G    |IF     |61.7 |55.0 |18806|7.37|7.41|4.56|\n",
      "|27747|2.07 |Ideal    |G    |SI2    |62.5 |55.0 |18804|8.2 |8.13|5.11|\n",
      "|27746|2.0  |Very Good|H    |SI1    |62.8 |57.0 |18803|7.95|8.0 |5.01|\n",
      "+-----+-----+---------+-----+-------+-----+-----+-----+----+----+----+\n",
      "only showing top 5 rows\n",
      "\n"
     ]
    }
   ],
   "source": [
    "# Afficher les 5 diamants les plus chers\n",
    "data.orderBy(data.price.desc()).show(5, truncate=False)"
   ]
  },
  {
   "cell_type": "code",
   "execution_count": 19,
   "metadata": {},
   "outputs": [
    {
     "name": "stdout",
     "output_type": "stream",
     "text": [
      "+-------+------------------+\n",
      "|clarity|        avg(price)|\n",
      "+-------+------------------+\n",
      "|   VVS2| 3283.737070667193|\n",
      "|    SI1| 3996.001148105626|\n",
      "|     IF| 2864.839106145251|\n",
      "|     I1|3924.1686909581645|\n",
      "|   VVS1|   2523.1146374829|\n",
      "|    VS2| 3924.989394681025|\n",
      "|    SI2| 5063.028605612356|\n",
      "|    VS1|3839.4553910170116|\n",
      "+-------+------------------+\n",
      "\n"
     ]
    }
   ],
   "source": [
    "# Calculer Le prix moyen des diamants en fonction de la clarté\n",
    "data.groupBy(\"clarity\").mean(\"price\").show()"
   ]
  },
  {
   "cell_type": "code",
   "execution_count": 20,
   "metadata": {},
   "outputs": [
    {
     "name": "stdout",
     "output_type": "stream",
     "text": [
      "+-----+------------------+\n",
      "|color|        avg(price)|\n",
      "+-----+------------------+\n",
      "|    F| 3724.886396981765|\n",
      "|    E|3076.7524752475247|\n",
      "|    D|3169.9540959409596|\n",
      "|    J|  5323.81801994302|\n",
      "|    G| 3999.135671271697|\n",
      "|    I| 5091.874953891553|\n",
      "|    H| 4486.669195568401|\n",
      "+-----+------------------+\n",
      "\n"
     ]
    }
   ],
   "source": [
    "# Afficher le prix moyen des diamants pour chaque couleur\n",
    "data.groupBy(\"color\").avg(\"price\").show()"
   ]
  },
  {
   "cell_type": "code",
   "execution_count": 24,
   "metadata": {},
   "outputs": [
    {
     "name": "stdout",
     "output_type": "stream",
     "text": [
      "+-----------+\n",
      "|total_price|\n",
      "+-----------+\n",
      "|       NULL|\n",
      "+-----------+\n",
      "\n"
     ]
    }
   ],
   "source": [
    "# Trouver le prix total des diamants de la catégorie ’Ideal’\n",
    "data.filter(data.clarity == 'Ideal') \\\n",
    "    .agg(sum(\"price\") \\\n",
    "    .alias(\"total_price\")) \\\n",
    "    .show()\n"
   ]
  },
  {
   "cell_type": "code",
   "execution_count": 23,
   "metadata": {},
   "outputs": [
    {
     "name": "stdout",
     "output_type": "stream",
     "text": [
      "+-------+------------------+\n",
      "|    cut|         avg_price|\n",
      "+-------+------------------+\n",
      "|Premium|4584.2577042999055|\n",
      "+-------+------------------+\n",
      "only showing top 1 row\n",
      "\n"
     ]
    }
   ],
   "source": [
    "# Trouver cut ayant le prix moyen le plus élevé\n",
    "from pyspark.sql.functions import mean\n",
    "data.groupBy(\"cut\") \\\n",
    ".agg(mean(\"price\").alias(\"avg_price\")) \\\n",
    ".orderBy(\"avg_price\", ascending=False) \\\n",
    ".show(1)"
   ]
  },
  {
   "cell_type": "code",
   "execution_count": 25,
   "metadata": {},
   "outputs": [
    {
     "name": "stdout",
     "output_type": "stream",
     "text": [
      "+-------+-----------------+\n",
      "|clarity|        avg_price|\n",
      "+-------+-----------------+\n",
      "|    SI2|5063.028605612356|\n",
      "+-------+-----------------+\n",
      "\n"
     ]
    }
   ],
   "source": [
    "# Afficher le prix moyen des diamants en fonction de leur clarté, mais seulement pour ceux dont la moyenne dépasse 5000$\n",
    "data.groupBy(\"clarity\") \\\n",
    "    .agg(mean(\"price\").alias(\"avg_price\")) \\\n",
    "    .filter(\"avg_price > 5000\") \\\n",
    "    .show()"
   ]
  },
  {
   "cell_type": "code",
   "execution_count": 26,
   "metadata": {},
   "outputs": [
    {
     "name": "stdout",
     "output_type": "stream",
     "text": [
      "+-----+-----+\n",
      "|table|count|\n",
      "+-----+-----+\n",
      "| 56.0| 9881|\n",
      "+-----+-----+\n",
      "only showing top 1 row\n",
      "\n"
     ]
    }
   ],
   "source": [
    "# Trouver la taille de table la plus fréquente.\n",
    "data.groupBy(\"table\") \\\n",
    "    .count() \\\n",
    "    .orderBy(\"count\", ascending=False) \\\n",
    "    .show(1)"
   ]
  },
  {
   "cell_type": "code",
   "execution_count": 27,
   "metadata": {},
   "outputs": [
    {
     "name": "stderr",
     "output_type": "stream",
     "text": [
      "[Stage 58:>                                                         (0 + 1) / 1]\r"
     ]
    },
    {
     "name": "stdout",
     "output_type": "stream",
     "text": [
      "+---------+-----+-----------------+\n",
      "|      cut|color|        avg_price|\n",
      "+---------+-----+-----------------+\n",
      "|  Premium|    J|6294.591584158416|\n",
      "|  Premium|    I|5946.180672268908|\n",
      "|Very Good|    I|5255.879568106312|\n",
      "+---------+-----+-----------------+\n",
      "only showing top 3 rows\n",
      "\n"
     ]
    },
    {
     "name": "stderr",
     "output_type": "stream",
     "text": [
      "                                                                                \r"
     ]
    }
   ],
   "source": [
    "# Afficher les 3 combinaisons (coupe, couleur) ayant le prix moyen le plus élevé.\n",
    "data.groupBy(\"cut\", \"color\") \\\n",
    "    .agg(mean(\"price\").alias(\"avg_price\")) \\\n",
    "    .orderBy(\"avg_price\", ascending=False) \\\n",
    "    .show(3)"
   ]
  },
  {
   "cell_type": "markdown",
   "metadata": {},
   "source": [
    "# Donnez un cas d’utilisation dans laquel Dataframe est préférable à l’utilisation de SQL"
   ]
  },
  {
   "cell_type": "markdown",
   "metadata": {},
   "source": [
    "**L'API DataFrame est souvent préférable à SQL lorsque les transformations de données sont complexes, dynamiques ou programmatiques, car elle of re une intégration native avec le langage Python et permet une composition fluide des opérations.**"
   ]
  }
 ],
 "metadata": {
  "kernelspec": {
   "display_name": ".venv",
   "language": "python",
   "name": "python3"
  },
  "language_info": {
   "codemirror_mode": {
    "name": "ipython",
    "version": 3
   },
   "file_extension": ".py",
   "mimetype": "text/x-python",
   "name": "python",
   "nbconvert_exporter": "python",
   "pygments_lexer": "ipython3",
   "version": "3.8.10"
  }
 },
 "nbformat": 4,
 "nbformat_minor": 2
}
